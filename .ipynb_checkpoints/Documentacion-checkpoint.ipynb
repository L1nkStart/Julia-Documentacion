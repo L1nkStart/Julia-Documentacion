{
 "cells": [
  {
   "cell_type": "markdown",
   "id": "d7d8750f-f799-42ba-bae7-ed44b87a0b04",
   "metadata": {},
   "source": [
    "# Introducción a Julia\n",
    "\n",
    "**Julia** es un lenguaje de programación de alto rendimiento diseñado para computación científica y numérica.  \n",
    "Es fácil de usar, tiene una sintaxis similar a Python y ofrece una velocidad comparable a C o Fortran.  \n",
    "\n",
    "**Características principales de Julia**:\n",
    "- Sintaxis simple y amigable.\n",
    "- Alto rendimiento (similar a C o Fortran).\n",
    "- Soporte para computación paralela y distribuida.\n",
    "- Interoperabilidad con Python, R y C.\n",
    "- Tipado dinámico y estático.\n",
    "- Biblioteca estándar rica y ecosistema en crecimiento.\n",
    "  \n"
   ]
  },
  {
   "cell_type": "markdown",
   "id": "996f0862-3d1e-458b-9ea4-c514245aec39",
   "metadata": {},
   "source": [
    "#  Variables y Tipos de Datos\n",
    "\n",
    "**Julia** es un lenguaje de tipado dinámico, aunque también permite definir tipos de datos explícitamente.\n",
    "\n",
    "- Tipos de Datos Principales\n",
    "- Números: Int, Float64, BigInt, Rational.\n",
    "- Cadenas: String, con soporte Unicode.\n",
    "- Booleanos: Bool, solo acepta true y false.\n",
    "- Arreglos: Array, permite manipulación eficiente de datos.\n",
    "- Diccionarios: Dict, estructura clave-valor.\n",
    "- Tuplas: Tuple, colecciones inmutables."
   ]
  },
  {
   "cell_type": "code",
   "execution_count": 2,
   "id": "b7cd9073-ee96-4f6f-9d7e-31b887a753f4",
   "metadata": {},
   "outputs": [
    {
     "data": {
      "text/plain": [
       "true"
      ]
     },
     "execution_count": 2,
     "metadata": {},
     "output_type": "execute_result"
    }
   ],
   "source": [
    "x = 42           # Entero\n",
    "y = 3.14         # Float\n",
    "nombre = \"Julia\" # String\n",
    "es_activo = true # Booleano"
   ]
  },
  {
   "cell_type": "markdown",
   "id": "04545d6b-afdf-46b2-91d5-4c169517be5a",
   "metadata": {},
   "source": [
    "# Estructuras de Control\n",
    "Condicionales (if, else, elseif)\n"
   ]
  },
  {
   "cell_type": "code",
   "execution_count": 4,
   "id": "9b5a179a-2605-4419-8199-91bcab1cedcf",
   "metadata": {},
   "outputs": [
    {
     "name": "stdout",
     "output_type": "stream",
     "text": [
      "Es mayor de edad\n"
     ]
    }
   ],
   "source": [
    "edad = 20\n",
    "if edad >= 18\n",
    "    println(\"Es mayor de edad\")\n",
    "else\n",
    "    println(\"Es menor de edad\")\n",
    "end\n"
   ]
  },
  {
   "cell_type": "markdown",
   "id": "426a2930-a48e-457f-9782-c63bd9f186b1",
   "metadata": {},
   "source": [
    "# Bucles \n",
    "(for, while)"
   ]
  },
  {
   "cell_type": "code",
   "execution_count": 5,
   "id": "d368a27a-186e-433f-a581-2748c3504ff2",
   "metadata": {},
   "outputs": [
    {
     "name": "stdout",
     "output_type": "stream",
     "text": [
      "Iteración 1\n",
      "Iteración 2\n",
      "Iteración 3\n",
      "Iteración 4\n",
      "Iteración 5\n",
      "Contador: 1\n",
      "Contador: 2\n",
      "Contador: 3\n"
     ]
    }
   ],
   "source": [
    "# Bucle for\n",
    "for i in 1:5\n",
    "    println(\"Iteración \", i)\n",
    "end\n",
    "\n",
    "# Bucle while\n",
    "contador = 1\n",
    "while contador <= 3\n",
    "    println(\"Contador: \", contador)\n",
    "    contador += 1\n",
    "end"
   ]
  },
  {
   "cell_type": "markdown",
   "id": "de0515f2-a1bb-481a-b5bd-bcb94d6a7602",
   "metadata": {},
   "source": [
    "# Funciones\n",
    "Las funciones en Julia pueden declararse de distintas maneras"
   ]
  },
  {
   "cell_type": "code",
   "execution_count": 6,
   "id": "453ab884-a56d-4dec-8ac3-5048b6c8d786",
   "metadata": {},
   "outputs": [
    {
     "name": "stdout",
     "output_type": "stream",
     "text": [
      "8\n",
      "8\n"
     ]
    }
   ],
   "source": [
    "# Definir una función tradicional\n",
    "function suma(a, b)\n",
    "    return a + b\n",
    "end\n",
    "\n",
    "# Definir una función en una sola línea\n",
    "multiplica(a, b) = a * b\n",
    "\n",
    "println(suma(5, 3))       # 8\n",
    "println(multiplica(4, 2)) # 8\n"
   ]
  },
  {
   "cell_type": "markdown",
   "id": "e119f8f3-097d-49ab-84bf-12773b16923b",
   "metadata": {},
   "source": [
    "# Funciones Anónimas"
   ]
  },
  {
   "cell_type": "code",
   "execution_count": 7,
   "id": "5d080ec2-0f0a-484f-b311-615e87234c30",
   "metadata": {},
   "outputs": [
    {
     "name": "stdout",
     "output_type": "stream",
     "text": [
      "8\n"
     ]
    }
   ],
   "source": [
    "potencia = (x, y) -> x^y\n",
    "println(potencia(2, 3))  # 8"
   ]
  },
  {
   "cell_type": "markdown",
   "id": "9946a410-0656-49d9-9e3e-1f38f1ec2640",
   "metadata": {},
   "source": [
    "# Arreglos y Matrices\n",
    "Los arreglos en Julia son eficientes y permiten manipulación avanzada.\n",
    "\n",
    "- Ejemplo de Arreglos\n"
   ]
  },
  {
   "cell_type": "code",
   "execution_count": 16,
   "id": "847a920b-9b31-4866-aca5-7465e859e744",
   "metadata": {},
   "outputs": [
    {
     "name": "stdout",
     "output_type": "stream",
     "text": [
      "2\n"
     ]
    },
    {
     "data": {
      "text/plain": [
       "6-element Vector{Int64}:\n",
       " 1\n",
       " 2\n",
       " 3\n",
       " 4\n",
       " 5\n",
       " 6"
      ]
     },
     "execution_count": 16,
     "metadata": {},
     "output_type": "execute_result"
    }
   ],
   "source": [
    "numeros = [1, 2, 3, 4, 5]\n",
    "println(numeros[2])  # Accede al segundo elemento\n",
    "push!(numeros, 6)   # Agrega un elemento al final\n"
   ]
  },
  {
   "cell_type": "markdown",
   "id": "63b072e4-fdba-4ed2-b83d-493812122eda",
   "metadata": {},
   "source": [
    "- Ejemplo de Matrices"
   ]
  },
  {
   "cell_type": "code",
   "execution_count": 13,
   "id": "9eede1ae-e67c-41f2-9c1c-9fc65848d12d",
   "metadata": {},
   "outputs": [
    {
     "name": "stdout",
     "output_type": "stream",
     "text": [
      "6\n"
     ]
    }
   ],
   "source": [
    "matriz = [1 2 3; 4 5 6; 7 8 9]\n",
    "println(matriz[2,3])  # Elemento fila 2, columna 3\n"
   ]
  },
  {
   "cell_type": "markdown",
   "id": "9de93cd3-bc44-47f3-b41e-3a596e026cff",
   "metadata": {},
   "source": [
    "# Estructuras de Datos\n",
    "Julia tiene estructuras avanzadas como diccionarios y conjuntos.\n",
    "\n",
    "- Diccionarios"
   ]
  },
  {
   "cell_type": "code",
   "execution_count": 14,
   "id": "3873cda0-205b-47f0-ab5c-67c3bf57c4b7",
   "metadata": {},
   "outputs": [
    {
     "name": "stdout",
     "output_type": "stream",
     "text": [
      "Juan\n"
     ]
    }
   ],
   "source": [
    "diccionario = Dict(\"nombre\" => \"Juan\", \"edad\" => 25)\n",
    "println(diccionario[\"nombre\"])  # Juan\n"
   ]
  },
  {
   "cell_type": "markdown",
   "id": "c02983a5-1b6d-4dac-a9a4-fadb310845bd",
   "metadata": {},
   "source": [
    "- Conjuntos"
   ]
  },
  {
   "cell_type": "code",
   "execution_count": 15,
   "id": "1f2e94f3-689c-4722-af7b-bc671685c7cb",
   "metadata": {},
   "outputs": [
    {
     "name": "stdout",
     "output_type": "stream",
     "text": [
      "Set([4, 2, 3, 1])\n"
     ]
    }
   ],
   "source": [
    "conjunto = Set([1, 2, 3, 3, 4])\n",
    "println(conjunto)  # {1, 2, 3, 4}\n"
   ]
  },
  {
   "cell_type": "markdown",
   "id": "d4541ee1-cabc-4c8c-ad15-64dd578dcf10",
   "metadata": {},
   "source": [
    "# Módulos y Paquetes\n",
    "Julia permite organizar código en módulos y usar paquetes externos."
   ]
  },
  {
   "cell_type": "markdown",
   "id": "fcfd0e8d-1469-407e-9b56-c6549756ecd7",
   "metadata": {},
   "source": [
    "- Ejemplo de Módulo\n"
   ]
  },
  {
   "cell_type": "code",
   "execution_count": null,
   "id": "6e55861e-dccc-445b-a053-d3087911d86c",
   "metadata": {
    "scrolled": true
   },
   "outputs": [],
   "source": [
    "module Matematicas\n",
    "export suma\n",
    "\n",
    "function suma(a, b)\n",
    "    return a + b\n",
    "end\n",
    "end"
   ]
  },
  {
   "cell_type": "markdown",
   "id": "20b38c61-d747-42bb-849f-a36284f42f0f",
   "metadata": {},
   "source": [
    "- Gestión de Paquetes"
   ]
  },
  {
   "cell_type": "markdown",
   "id": "a0734052-ae49-4fc5-9649-0180a20fc3e1",
   "metadata": {},
   "source": [
    "using Pkg\n",
    "Pkg.add(\"Plots\")  # Instalar paquete de gráficos\n"
   ]
  },
  {
   "cell_type": "markdown",
   "id": "2577fd69-991c-4c50-ba5f-e82f965ac81e",
   "metadata": {},
   "source": [
    "# Entrada y Salida (I/O)\n",
    "Julia permite leer y escribir datos fácilmente."
   ]
  },
  {
   "cell_type": "markdown",
   "id": "309d1059-e4b8-49c3-b6e0-f6c2a8da3042",
   "metadata": {},
   "source": [
    "- Entrada de Usuario\n"
   ]
  },
  {
   "cell_type": "code",
   "execution_count": null,
   "id": "5100fecf-9572-45d7-a66a-bdb9d1b38d63",
   "metadata": {},
   "outputs": [],
   "source": [
    "nombre = readline()\n",
    "println(\"Hola, \", nombre)\n"
   ]
  },
  {
   "cell_type": "markdown",
   "id": "11806ee6-2ae7-4868-9730-5f02a7a0f1dc",
   "metadata": {},
   "source": [
    "- Lectura y Escritura de Archivos"
   ]
  },
  {
   "cell_type": "code",
   "execution_count": null,
   "id": "442b75af-11bc-47fd-8acb-be60f9bf3233",
   "metadata": {},
   "outputs": [],
   "source": [
    "# Escribir en un archivo\n",
    "open(\"archivo.txt\", \"w\") do archivo\n",
    "    write(archivo, \"Hola desde Julia!\")\n",
    "end\n",
    "\n",
    "# Leer un archivo\n",
    "contenido = read(\"archivo.txt\", String)\n",
    "println(contenido)\n"
   ]
  },
  {
   "cell_type": "markdown",
   "id": "00592000-8815-4629-9f4c-bbf2f8a22fdb",
   "metadata": {},
   "source": [
    "# Programación Orientada a Objetos (POO)\n",
    "Julia no usa clases como Python, sino tipos de datos personalizados."
   ]
  },
  {
   "cell_type": "markdown",
   "id": "8d87ce68-1dd3-43c1-885e-a86d6b800413",
   "metadata": {},
   "source": [
    "- Ejemplo de Tipos Personalizados"
   ]
  },
  {
   "cell_type": "code",
   "execution_count": null,
   "id": "6ed555de-37e4-446e-91d0-fc29fb55b45b",
   "metadata": {},
   "outputs": [],
   "source": [
    "struct Persona\n",
    "    nombre::String\n",
    "    edad::Int\n",
    "end\n",
    "\n",
    "p = Persona(\"Ana\", 30)\n",
    "println(p.nombre)  # Ana\n"
   ]
  },
  {
   "cell_type": "markdown",
   "id": "d4db2dc9-d2b0-4e61-8cf1-720444311781",
   "metadata": {},
   "source": [
    "# Computación Paralela y en GPU\n",
    "Julia tiene un fuerte soporte para ejecución paralela.\n",
    "\n",
    "- Ejecución en múltiples núcleos"
   ]
  },
  {
   "cell_type": "code",
   "execution_count": null,
   "id": "db5161c7-c66f-4265-8daa-8ba8aba07a22",
   "metadata": {},
   "outputs": [],
   "source": [
    "using Distributed\n",
    "addprocs(4)  # Agregar 4 procesos\n",
    "\n",
    "@distributed for i in 1:10\n",
    "    println(\"Proceso $i ejecutado en $(myid())\")\n",
    "end\n"
   ]
  },
  {
   "cell_type": "markdown",
   "id": "ca9df382-b24d-4d5e-9511-1c25d3cd20fb",
   "metadata": {},
   "source": [
    "- Cálculo en GPU"
   ]
  },
  {
   "cell_type": "code",
   "execution_count": null,
   "id": "1731b589-1388-4dca-a16e-febe1cf7496b",
   "metadata": {},
   "outputs": [],
   "source": [
    "using CUDA\n",
    "a = CUDA.randn(10,10)  # Matriz en la GPU\n"
   ]
  },
  {
   "cell_type": "markdown",
   "id": "6cfe80f3-0eb6-4b0d-b6f4-b0d3ed702e49",
   "metadata": {},
   "source": [
    "# Machine Learning con Julia\n",
    "Julia se usa en aprendizaje automático con Flux.jl.\n",
    "\n",
    "- Ejemplo de Red Neuronal Simple"
   ]
  },
  {
   "cell_type": "code",
   "execution_count": null,
   "id": "5bc210ae-444a-456a-90ed-b184004219e7",
   "metadata": {},
   "outputs": [],
   "source": [
    "using Flux\n",
    "modelo = Chain(Dense(2, 5, relu), Dense(5, 1, sigmoid))\n"
   ]
  },
  {
   "cell_type": "markdown",
   "id": "a6dde582-b487-454b-b8ef-ffc67de38d16",
   "metadata": {},
   "source": [
    "# Conclusión\n",
    "Julia es un lenguaje moderno, rápido y con múltiples aplicaciones.\n",
    "Es ideal para cálculo numérico, inteligencia artificial y computación paralela.\n",
    "\n",
    "--Fin"
   ]
  }
 ],
 "metadata": {
  "kernelspec": {
   "display_name": "Julia 1.11.3",
   "language": "julia",
   "name": "julia-1.11"
  },
  "language_info": {
   "file_extension": ".jl",
   "mimetype": "application/julia",
   "name": "julia",
   "version": "1.11.3"
  }
 },
 "nbformat": 4,
 "nbformat_minor": 5
}
